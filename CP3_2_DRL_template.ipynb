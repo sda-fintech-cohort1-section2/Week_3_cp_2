{
 "cells": [
  {
   "cell_type": "markdown",
   "id": "6f79cb01-45da-4b92-a216-7d47a6cdc123",
   "metadata": {},
   "source": [
    "## Assignment: Example Econometrics Experiment\n",
    "#### Please read through the notebook and replace any #todos\n",
    "#### Please also be sure to fill out the markdown cell at the end of this notebook with your response"
   ]
  },
  {
   "cell_type": "code",
   "execution_count": null,
   "id": "1b419dc6-5e6b-425d-8a2a-12a97b9cf783",
   "metadata": {},
   "outputs": [],
   "source": [
    "# As always, we begin by importing our packages at the top of our notebook\n",
    "\n",
    "import pandas\n",
    "from sklearn.preprocessing import StandardScaler\n",
    "\n",
    "from statsmodels.formula.api import ols\n",
    "import matplotlib.pyplot as plt\n",
    "import statsmodels.api as sm\n",
    "\n",
    "import warnings\n",
    "warnings.filterwarnings('ignore')"
   ]
  },
  {
   "cell_type": "code",
   "execution_count": null,
   "id": "30acbc91-ea3a-4fa3-b01d-b4d46bf885a2",
   "metadata": {},
   "outputs": [],
   "source": [
    "#Let's use .tail() to view a sample of our data and make sure it loaded as expected\n",
    "\n",
    "df = pandas.read_csv('CP3_2_data.csv',parse_dates=#todo,index_col=#todo)\n",
    "df.tail(4)"
   ]
  },
  {
   "cell_type": "code",
   "execution_count": null,
   "id": "97bc49e4-89cd-4bce-aa13-884dbd27258a",
   "metadata": {},
   "outputs": [],
   "source": [
    "# Here we will use the .columns property of our DataFrame to print out the columns from our data.\n",
    "\n",
    "df.columns"
   ]
  },
  {
   "cell_type": "code",
   "execution_count": null,
   "id": "ef47c77b-09eb-463b-8b8a-a25988c2e0c9",
   "metadata": {},
   "outputs": [],
   "source": [
    "# Objective:\n",
    "# Select the following collumns for your data frame:\n",
    "# 'Revenue','Property, Plant & Equipment, Net' and 'Adjusted Close'\n",
    "\n",
    "econ_df = df[[#todo]]"
   ]
  },
  {
   "cell_type": "code",
   "execution_count": null,
   "id": "91ca1ab5-cb80-45ee-a39a-ae6e76c1139d",
   "metadata": {},
   "outputs": [],
   "source": [
    "# Let's visualize our data\n",
    "\n",
    "econ_df.plot()"
   ]
  },
  {
   "cell_type": "code",
   "execution_count": null,
   "id": "b13c067e-d6d8-4f6c-9b98-c08b939240d7",
   "metadata": {},
   "outputs": [],
   "source": [
    "# We can take a look at our DateTimeIndex from our DataFrame using the .index property.\n",
    "\n",
    "econ_df.index"
   ]
  },
  {
   "cell_type": "code",
   "execution_count": null,
   "id": "1ade0977-2b14-4d04-931a-18aa489d9739",
   "metadata": {},
   "outputs": [],
   "source": [
    "# In the above plot, it was a bit difficult to see relationships \n",
    "# in our data due to the differences in scale.\n",
    "# Let's normalize our data using a Z or Standard transform.\n",
    "\n",
    "scaler = StandardScaler()\n",
    "\n",
    "scaled_df = pandas.DataFrame(\n",
    "    scaler.fit_transform(econ_df), \n",
    "    columns=econ_df.columns,\n",
    "    index=econ_df.index)\n",
    "\n",
    "print(scaled_df.head(4))\n",
    "\n",
    "scaled_df.plot()"
   ]
  },
  {
   "cell_type": "markdown",
   "id": "c67b5975-468d-4627-b293-206f04e152b3",
   "metadata": {},
   "source": [
    "Much better!"
   ]
  },
  {
   "cell_type": "code",
   "execution_count": null,
   "id": "db6b787e-639b-4edc-9876-1eeca335f9d8",
   "metadata": {},
   "outputs": [],
   "source": [
    "# Objective:\n",
    "# Visualize an alternative plot using the function \"pct_change\"\n",
    "\n",
    "econ_df.#todo().dropna().plot()"
   ]
  },
  {
   "cell_type": "code",
   "execution_count": null,
   "id": "43bf19db-5146-4ff7-bf4a-92d2e5e6c4d9",
   "metadata": {},
   "outputs": [],
   "source": [
    "# How does this look with our rescaled data?\n",
    "scaled_df.pct_change().dropna().plot()"
   ]
  },
  {
   "cell_type": "code",
   "execution_count": null,
   "id": "c2d870ad-224b-46e6-b6f2-31c693ea266a",
   "metadata": {},
   "outputs": [],
   "source": [
    "# Here we will make use of the rename method from our DataFrame\n",
    "# to change some collumn names. We will be making use of a \n",
    "# stanrded model syntax borrowed from the programming language R.\n",
    "\n",
    "# Don't worry if it's new to you. But we can't have spaces in our \n",
    "# collumn names\n",
    "\n",
    "relabeled_df = df.rename(columns={\n",
    "    'Property, Plant & Equipment, Net':'ppe',\n",
    "    'Adjusted Close':'adjusted_close',\n",
    "    'Revenue':'revenue'})"
   ]
  },
  {
   "cell_type": "code",
   "execution_count": null,
   "id": "9dd4a033-61fa-4b71-b65d-6961c5eb4478",
   "metadata": {},
   "outputs": [],
   "source": [
    "# Let's quickly check our new DataFrame\n",
    "relabeled_df.tail(3)"
   ]
  },
  {
   "cell_type": "markdown",
   "id": "544b8929-fc15-4df0-a6ed-577f238ad5bc",
   "metadata": {},
   "source": [
    "#### Time for some modeling!\n",
    "\n",
    "The first model is completed for you, work to complete the second one."
   ]
  },
  {
   "cell_type": "code",
   "execution_count": null,
   "id": "aa932133-400c-409d-9ae4-709958099b72",
   "metadata": {},
   "outputs": [],
   "source": [
    "plant_and_property_model = ols(\"adjusted_close ~ ppe \", data = relabeled_df).fit()\n",
    "\n",
    "# Objective:\n",
    "# Use the above line of code as a guide, and complete the econometric model for 'revenue'\n",
    "\n",
    "revenue_model = #todo(\"adjusted_close ~ #todo \", data = #todo).#todo()"
   ]
  },
  {
   "cell_type": "code",
   "execution_count": null,
   "id": "c8498d3d-8af4-4844-96f7-904271c86a5d",
   "metadata": {},
   "outputs": [],
   "source": [
    "# In one cell we will print our summary and plot some figures below.\n",
    "# Don't worry about the new package for now. But keep it in mind for the future.\n",
    "\n",
    "print(plant_and_property_model.summary())\n",
    "\n",
    "sm.graphics.plot_regress_exog(plant_and_property_model, 'ppe', fig=plt.figure(figsize=(12,8)))"
   ]
  },
  {
   "cell_type": "code",
   "execution_count": null,
   "id": "5c784aff-1b42-48c6-bf2c-c19b7ca813a3",
   "metadata": {},
   "outputs": [],
   "source": [
    "# Again for the next model\n",
    "print(revenue_model.summary())\n",
    "\n",
    "sm.graphics.plot_regress_exog(revenue_model, 'revenue', fig=plt.figure(figsize=(12,8)))"
   ]
  },
  {
   "cell_type": "code",
   "execution_count": null,
   "id": "37cdb96d-de34-4569-a655-21ca6b32d336",
   "metadata": {},
   "outputs": [],
   "source": [
    "# Final Objective:\n",
    "\n",
    "# In the markdown cell bellow (double click to edit), \n",
    "# write your response for which model you think best explains the Adjusted Close prices\n",
    "# for Digital Realty Trust. Does the equity in the form of Plant, Property and Equipment (PPE)\n",
    "# best explain our data, or does Revenue? Why? Please refer to the above analyses and/or figures."
   ]
  },
  {
   "cell_type": "markdown",
   "id": "e830e006-159c-4edb-8bb5-2ed8c1246836",
   "metadata": {},
   "source": [
    "<< Students, please write your response here >>"
   ]
  }
 ],
 "metadata": {
  "kernelspec": {
   "display_name": "Python 3",
   "language": "python",
   "name": "python3"
  },
  "language_info": {
   "codemirror_mode": {
    "name": "ipython",
    "version": 3
   },
   "file_extension": ".py",
   "mimetype": "text/x-python",
   "name": "python",
   "nbconvert_exporter": "python",
   "pygments_lexer": "ipython3",
   "version": "3.8.8"
  }
 },
 "nbformat": 4,
 "nbformat_minor": 5
}
